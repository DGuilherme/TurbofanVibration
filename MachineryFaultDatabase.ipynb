{
  "nbformat": 4,
  "nbformat_minor": 0,
  "metadata": {
    "colab": {
      "name": "MachineryFaultDatabase.ipynb",
      "provenance": [],
      "authorship_tag": "ABX9TyOUEZgCYZZfmx2IjT06l0nQ",
      "include_colab_link": true
    },
    "kernelspec": {
      "name": "python3",
      "display_name": "Python 3"
    }
  },
  "cells": [
    {
      "cell_type": "markdown",
      "metadata": {
        "id": "view-in-github",
        "colab_type": "text"
      },
      "source": [
        "<a href=\"https://colab.research.google.com/github/DGuilherme/TurbofanVibration/blob/master/MachineryFaultDatabase.ipynb\" target=\"_parent\"><img src=\"https://colab.research.google.com/assets/colab-badge.svg\" alt=\"Open In Colab\"/></a>"
      ]
    },
    {
      "cell_type": "markdown",
      "metadata": {
        "id": "B1zl-Hfbshoo"
      },
      "source": [
        "# Analise do Data Set \r\n",
        "\r\n",
        "*Imports needed*"
      ]
    },
    {
      "cell_type": "code",
      "metadata": {
        "id": "t5YZY-kQWuuU"
      },
      "source": [
        "import pandas as pd\r\n",
        "import matplotlib.pyplot as plt\r\n",
        "import numpy as np\r\n",
        "import seaborn as sns\r\n",
        "\r\n",
        "# for the FFT transformation\r\n",
        "from scipy import pi\r\n",
        "from scipy.fftpack import fft"
      ],
      "execution_count": 1,
      "outputs": []
    },
    {
      "cell_type": "markdown",
      "metadata": {
        "id": "w9qxamSJspvX"
      },
      "source": [
        "# Analisys\r\n",
        "import dataset"
      ]
    },
    {
      "cell_type": "code",
      "metadata": {
        "colab": {
          "base_uri": "https://localhost:8080/"
        },
        "id": "IvFyfW2hsuaN",
        "outputId": "e89f0e0f-24fb-4769-da6b-506b69bff7a8"
      },
      "source": [
        "url = 'https://raw.githubusercontent.com/DGuilherme/TurbofanVibration/master/Dataset/ALLtestMescla5D.csv'\r\n",
        "data = pd.read_csv(url,header=None,delimiter=r\",\")\r\n",
        "# Dataset is now stored in a Pandas Dataframe\r\n",
        "print(data)"
      ],
      "execution_count": 2,
      "outputs": [
        {
          "output_type": "stream",
          "text": [
            "             0           1               2   ...      33     34     35\n",
            "0     machineID    datetime  time_in_cycles  ...  failed    RUL  RUL_I\n",
            "1             1  2015-06-20             167  ...       0    1.0   74.0\n",
            "2             1  2015-06-21             168  ...       0    2.0   73.0\n",
            "3             1  2015-06-22             169  ...       0    3.0   72.0\n",
            "4             1  2015-06-23             170  ...       0    4.0   71.0\n",
            "...         ...         ...             ...  ...     ...    ...    ...\n",
            "7185        100  2015-09-06             245  ...       0  206.0    4.0\n",
            "7186        100  2015-09-07             246  ...       0  207.0    3.0\n",
            "7187        100  2015-09-08             247  ...       0  208.0    2.0\n",
            "7188        100  2015-09-09             248  ...       0  209.0    1.0\n",
            "7189        100  2015-09-10             249  ...       1  210.0    0.0\n",
            "\n",
            "[7190 rows x 36 columns]\n"
          ],
          "name": "stdout"
        }
      ]
    }
  ]
}