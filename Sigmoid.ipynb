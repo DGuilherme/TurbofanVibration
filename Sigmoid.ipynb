{
  "nbformat": 4,
  "nbformat_minor": 0,
  "metadata": {
    "colab": {
      "name": "Sigmoid.ipynb",
      "provenance": [],
      "authorship_tag": "ABX9TyN4MZ3yi22fhDRSTUi51Tpc",
      "include_colab_link": true
    },
    "kernelspec": {
      "name": "python3",
      "display_name": "Python 3"
    }
  },
  "cells": [
    {
      "cell_type": "markdown",
      "metadata": {
        "id": "view-in-github",
        "colab_type": "text"
      },
      "source": [
        "<a href=\"https://colab.research.google.com/github/DGuilherme/TurbofanVibration/blob/master/Sigmoid.ipynb\" target=\"_parent\"><img src=\"https://colab.research.google.com/assets/colab-badge.svg\" alt=\"Open In Colab\"/></a>"
      ]
    },
    {
      "cell_type": "code",
      "metadata": {
        "colab": {
          "base_uri": "https://localhost:8080/",
          "height": 279
        },
        "id": "z_gBZ4B2VK2g",
        "outputId": "a9fbcf71-9661-4a25-9b4a-37728b805b9a"
      },
      "source": [
        "# Import matplotlib, numpy and math \r\n",
        "import matplotlib.pyplot as plt \r\n",
        "import numpy as np \r\n",
        "import math \r\n",
        "#, 2, 5, 20, 45, 5, 55, 20, 3, 5, 20, 20\r\n",
        "arr = np.array([ 230, 240, 300])\r\n",
        "x = np.linspace(-200, 200, 1000) \r\n",
        "z = 1/(1 + np.exp(-x)) \r\n",
        "z_arr = 1/(1 + np.exp(-arr)) \r\n",
        "  \r\n",
        "plt.plot(x, z,z_arr) \r\n",
        "plt.xlabel(\"x\") \r\n",
        "plt.ylabel(\"Sigmoid(X)\") \r\n",
        "  \r\n",
        "plt.show() \r\n",
        "\r\n",
        "\r\n"
      ],
      "execution_count": 9,
      "outputs": [
        {
          "output_type": "display_data",
          "data": {
            "image/png": "[encoded data removed]",
            "text/plain": [
              "<Figure size 432x288 with 1 Axes>"
            ]
          },
          "metadata": {
            "tags": [],
            "needs_background": "light"
          }
        }
      ]
    },
    {
      "cell_type": "code",
      "metadata": {
        "colab": {
          "base_uri": "https://localhost:8080/",
          "height": 279
        },
        "id": "_U4h07K9X1OL",
        "outputId": "6d68fce1-6aed-4740-a65c-98a522cf76e4"
      },
      "source": [
        "\r\n",
        "x = np.linspace(-10, 10, 100) \r\n",
        "\r\n",
        "z = 1/(1 + np.exp(-x)) \r\n",
        "  \r\n",
        "plt.plot(x, z) \r\n",
        "plt.xlabel(\"x\") \r\n",
        "plt.ylabel(\"Sigmoid(X)\") \r\n",
        "  \r\n",
        "plt.show() "
      ],
      "execution_count": 15,
      "outputs": [
        {
          "output_type": "display_data",
          "data": {
            "image/png": "[encoded data removed]",
            "text/plain": [
              "<Figure size 432x288 with 1 Axes>"
            ]
          },
          "metadata": {
            "tags": [],
            "needs_background": "light"
          }
        }
      ]
    },
    {
      "cell_type": "code",
      "metadata": {
        "colab": {
          "base_uri": "https://localhost:8080/",
          "height": 279
        },
        "id": "K71L07fsYSCK",
        "outputId": "91a30232-f093-416b-c929-fdc33db4b1ac"
      },
      "source": [
        "x = np.linspace(-9, 9, 100) \r\n",
        "\r\n",
        "z = 1/(1 + np.exp(-x)) \r\n",
        "  \r\n",
        "plt.plot(x, z) \r\n",
        "plt.xlabel(\"x\") \r\n",
        "plt.ylabel(\"Sigmoid(X)\") \r\n",
        "  \r\n",
        "plt.show() "
      ],
      "execution_count": 20,
      "outputs": [
        {
          "output_type": "display_data",
          "data": {
            "image/png": "[encoded data removed]",
            "text/plain": [
              "<Figure size 432x288 with 1 Axes>"
            ]
          },
          "metadata": {
            "tags": [],
            "needs_background": "light"
          }
        }
      ]
    },
    {
      "cell_type": "code",
      "metadata": {
        "colab": {
          "base_uri": "https://localhost:8080/"
        },
        "id": "Wdqboj_sWIXG",
        "outputId": "b3755a77-f331-4017-c788-576789f4647e"
      },
      "source": [
        "arr = np.array([2, 5, 20, 45, 230, 5, 240, 55, 20, 3, 5, 20, 20])\r\n",
        "\r\n",
        "print(arr)\r\n",
        "print(type(arr))"
      ],
      "execution_count": 3,
      "outputs": [
        {
          "output_type": "stream",
          "text": [
            "[1 2 3 4 5]\n",
            "<class 'numpy.ndarray'>\n"
          ],
          "name": "stdout"
        }
      ]
    },
    {
      "cell_type": "markdown",
      "metadata": {
        "id": "KrvX1E69Y_JP"
      },
      "source": [
        "# Como avaliar os individuos\r\n",
        "Soma dos tempos das manutençoes - o Rul\r\n",
        "\r\n",
        "\r\n",
        "*   Positivo quer dizer que passou do limite\r\n",
        "*   Negativo quer dizer que ainda nao ultrapassou o RUL previsto\r\n",
        "\r\n",
        "## Precisamos\r\n",
        "\r\n",
        "*Assumindo que a previsão do RUL é seguida do escalonamento das manutenções* \r\n",
        "\r\n",
        "1.   Função para somar os tempos (já existe)\r\n",
        "2.   Funçao para subtrair os tempos com o RUL e aplicar a sigmoid \r\n",
        "\r\n",
        "\r\n",
        "\r\n"
      ]
    },
    {
      "cell_type": "code",
      "metadata": {
        "id": "nppAxDTkV7c5"
      },
      "source": [
        "seed_data = [{'name':'machine0', 'RUL':3,'cost':100, 'timeconsumption' : 100, 'productionLine':1}, \r\n",
        "             {'name': 'machine1', 'RUL':5,'cost':70,'timeconsumption': 100, 'productionLine':2}, \r\n",
        "             {'name':'machine2', 'RUL': 20,'cost':80,'timeconsumption' :100,'productionLine':1}, \r\n",
        "             {'name': 'machine3', 'RUL':45,'cost':45,'timeconsumption': 100, 'productionLine':3}, \r\n",
        "             {'name':'machine4', 'RUL': 230,'cost':150,'timeconsumption' :100,'productionLine':3}, \r\n",
        "             {'name': 'machine5', 'RUL':5,'cost':350,'timeconsumption': 100, 'productionLine':2}, \r\n",
        "             {'name':'machine6', 'RUL': 240,'cost':98,'timeconsumption' :100,'productionLine':2}, \r\n",
        "             {'name': 'machine7', 'RUL':55,'cost':654,'timeconsumption': 100, 'productionLine':1}, \r\n",
        "             {'name':'machine8', 'RUL': 20,'cost':789,'timeconsumption' :100,'productionLine':4},\r\n",
        "             {'name':'machine9', 'RUL':3,'cost':100, 'timeconsumption' : 100, 'productionLine':1}, \r\n",
        "             {'name': 'machine10', 'RUL':5,'cost':70,'timeconsumption': 100, 'productionLine':2},\r\n",
        "             {'name':'machine11', 'RUL': 20,'cost':80,'timeconsumption' :100,'productionLine':1}, \r\n",
        "             {'name':'machine12', 'RUL': 20,'cost':80,'timeconsumption' :100,'productionLine':1}, \r\n",
        "             {'name': 'machine13', 'RUL':45,'cost':45,'timeconsumption': 100, 'productionLine':3}, \r\n",
        "             {'name':'machine14', 'RUL': 230,'cost':150,'timeconsumption' :100,'productionLine':3}, \r\n",
        "             {'name': 'machine15', 'RUL':5,'cost':350,'timeconsumption': 100, 'productionLine':2}, \r\n",
        "             {'name':'machine16', 'RUL': 240,'cost':98,'timeconsumption' :100,'productionLine':2}, \r\n",
        "             {'name': 'machine17', 'RUL':55,'cost':65,'timeconsumption': 100, 'productionLine':1}, \r\n",
        "             {'name':'machine18', 'RUL': 20,'cost':789,'timeconsumption' :100,'productionLine':4},\r\n",
        "             {'name':'machine19', 'RUL': 20,'cost':845,'timeconsumption' :100,'productionLine':1},\r\n",
        "             {'name':'machine20', 'RUL':3,'cost':10, 'timeconsumption' : 100, 'productionLine':1}, \r\n",
        "             {'name': 'machine21', 'RUL':5,'cost':70,'timeconsumption': 100, 'productionLine':2}, \r\n",
        "             {'name':'machine22', 'RUL': 20,'cost':80,'timeconsumption' :100,'productionLine':1}, \r\n",
        "             {'name': 'machine23', 'RUL':45,'cost':45,'timeconsumption': 100, 'productionLine':3}, \r\n",
        "             {'name':'machine24', 'RUL': 230,'cost':150,'timeconsumption' :100,'productionLine':3}, \r\n",
        "             {'name': 'machine25', 'RUL':5,'cost':350,'timeconsumption': 100, 'productionLine':2}, \r\n",
        "             {'name':'machine26', 'RUL': 240,'cost':98,'timeconsumption' :100,'productionLine':2}, \r\n",
        "             {'name': 'machine27', 'RUL':55,'cost':654,'timeconsumption': 100, 'productionLine':1}, \r\n",
        "             {'name':'machine28', 'RUL': 20,'cost':789,'timeconsumption' :10,'productionLine':4}]"
      ],
      "execution_count": 2,
      "outputs": []
    },
    {
      "cell_type": "code",
      "metadata": {
        "id": "aLiyCVbOVdOW"
      },
      "source": [
        "def fitness (individual, data):\r\n",
        "\r\n",
        "    cost = 0\r\n",
        "    line = 0\r\n",
        "    for (selected, ind) in zip(individual, data):\r\n",
        "        cost += seed_data[selected].get('cost')\r\n",
        "        line2 = seed_data[selected].get('productionLine')\r\n",
        "       \r\n",
        "        if (line == line2):\r\n",
        "            cost -= 10\r\n",
        "        line = line2  \r\n",
        "\r\n",
        "        x = 1 / (1 + np.exp(-seed_data[selected].get('RUL')))\r\n",
        "        print(x)\r\n",
        "        cost+=seed_data[selected].get('RUL')\r\n",
        "    return cost\r\n",
        "    "
      ],
      "execution_count": null,
      "outputs": []
    },
    {
      "cell_type": "code",
      "metadata": {
        "id": "kH3MsMcKVlPA"
      },
      "source": [
        "def fitness_with_rul:\r\n",
        "\r\n",
        "\r\n",
        "  "
      ],
      "execution_count": null,
      "outputs": []
    }
  ]
}